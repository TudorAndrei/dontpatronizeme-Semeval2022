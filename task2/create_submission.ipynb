{
 "cells": [
  {
   "cell_type": "code",
   "execution_count": 1,
   "metadata": {},
   "outputs": [],
   "source": [
    "import pandas as pd\n",
    "from dont_patronize_me import DontPatronizeMe\n",
    "from ast import literal_eval\n",
    "from torch.utils.data import DataLoader, Dataset\n",
    "import os.path as osp\n",
    "from typing import Optional\n",
    "from transformer import RoBERTa\n",
    "from tqdm import tqdm\n",
    "import pandas as pd\n",
    "import torch\n",
    "from pytorch_lightning import LightningDataModule\n",
    "from torch.utils.data import DataLoader, Dataset\n",
    "from transformers.models.auto.tokenization_auto import AutoTokenizer\n",
    "import os\n",
    "os.environ[\"TOKENIZERS_PARALLELISM\"] = \"false\"\n",
    "device = 'cuda'"
   ]
  },
  {
   "cell_type": "code",
   "execution_count": 2,
   "metadata": {},
   "outputs": [],
   "source": [
    "class DPMDataset_submission(Dataset):\n",
    "    def __init__(self, model: str, data) -> None:\n",
    "        super().__init__()\n",
    "\n",
    "        self.tokenizer = AutoTokenizer.from_pretrained(model)\n",
    "        self.max_len = 512\n",
    "        self.data = data\n",
    "\n",
    "    def __getitem__(self, index):\n",
    "        text = self.data[index]\n",
    "        text = self.tokenizer.encode_plus(\n",
    "            text,\n",
    "            None,\n",
    "            add_special_tokens=True,\n",
    "            max_length=self.max_len,\n",
    "            padding=\"max_length\",\n",
    "            return_token_type_ids=True,\n",
    "            truncation=True,\n",
    "        )\n",
    "        return {\n",
    "            \"ids\": torch.tensor(text[\"input_ids\"], dtype=torch.long),\n",
    "            \"mask\": torch.tensor(text[\"attention_mask\"], dtype=torch.long),\n",
    "        }\n",
    "\n",
    "    def __len__(self):\n",
    "        return len(self.data)"
   ]
  },
  {
   "cell_type": "code",
   "execution_count": 3,
   "metadata": {},
   "outputs": [],
   "source": [
    "dpm = DontPatronizeMe('../dataset', test_path=\"../dataset/task4_test.tsv\")\n",
    "dpm.load_test()"
   ]
  },
  {
   "cell_type": "code",
   "execution_count": 4,
   "metadata": {},
   "outputs": [],
   "source": [
    "dpm.load_test()\n",
    "test = dpm.test_set"
   ]
  },
  {
   "cell_type": "code",
   "execution_count": 5,
   "metadata": {},
   "outputs": [
    {
     "data": {
      "text/plain": [
       "3832"
      ]
     },
     "execution_count": 5,
     "metadata": {},
     "output_type": "execute_result"
    }
   ],
   "source": [
    "len(test)"
   ]
  },
  {
   "cell_type": "code",
   "execution_count": 6,
   "metadata": {},
   "outputs": [],
   "source": [
    "dataset_ = DPMDataset_submission(model = \"mrm8488/distilroberta-finetuned-tweets-hate-speech\",data=dpm.test_set)"
   ]
  },
  {
   "cell_type": "code",
   "execution_count": 7,
   "metadata": {},
   "outputs": [],
   "source": [
    "data_loader = DataLoader(dataset_, batch_size=8)"
   ]
  },
  {
   "cell_type": "code",
   "execution_count": 8,
   "metadata": {},
   "outputs": [
    {
     "name": "stdout",
     "output_type": "stream",
     "text": [
      "mrm8488/distilroberta-finetuned-tweets-hate-speech\n",
      "2048\n",
      "mrm8488/distilroberta-finetuned-tweets-hate-speech\n",
      "2048\n"
     ]
    }
   ],
   "source": [
    "best_model_path = \"models/distillroberta_3/bert-val_loss0.44-v1.ckpt\"\n",
    "hf_name = \"mrm8488/distilroberta-finetuned-tweets-hate-speech\"\n",
    "module = RoBERTa(model=hf_name).load_from_checkpoint(best_model_path, model=hf_name)\n"
   ]
  },
  {
   "cell_type": "code",
   "execution_count": 9,
   "metadata": {},
   "outputs": [
    {
     "name": "stderr",
     "output_type": "stream",
     "text": [
      "100%|██████████| 479/479 [00:25<00:00, 18.55it/s]\n"
     ]
    }
   ],
   "source": [
    "module.eval()\n",
    "module.freeze()\n",
    "module.cuda()\n",
    "preds = []\n",
    "sub_file = \"text.txt\"\n",
    "file_path = \"../submissions/task2.txt\"\n",
    "f = open(file_path, \"w\")\n",
    "for batch in tqdm(data_loader):\n",
    "    ids,mask = batch[\"ids\"].cuda(), batch[\"mask\"].cuda()\n",
    "    out = module(ids,mask)\n",
    "    # print(out)\n",
    "    predictions = torch.sigmoid(out).cpu()\n",
    "    predictions = torch.round(predictions)\n",
    "    # print(predictions)\n",
    "    predictions = predictions.numpy().astype(int).tolist()\n",
    "    # print(predictions)\n",
    "    for i, pred in enumerate(predictions):\n",
    "        result  = \",\".join([str(x) for x in pred]).strip('\"') + \"\\n\"\n",
    "        f.write(result)\n",
    "        # print(result)\n",
    "        preds.append(result)\n",
    "    # break\n",
    "f.close()"
   ]
  }
 ],
 "metadata": {
  "interpreter": {
   "hash": "7359f9c874db4364c728011c1f4a97cf55832ccdeb70372c117f6582850e5526"
  },
  "kernelspec": {
   "display_name": "Python 3.9.7 64-bit ('pcl': conda)",
   "language": "python",
   "name": "python3"
  },
  "language_info": {
   "codemirror_mode": {
    "name": "ipython",
    "version": 3
   },
   "file_extension": ".py",
   "mimetype": "text/x-python",
   "name": "python",
   "nbconvert_exporter": "python",
   "pygments_lexer": "ipython3",
   "version": "3.9.7"
  },
  "orig_nbformat": 4
 },
 "nbformat": 4,
 "nbformat_minor": 2
}
