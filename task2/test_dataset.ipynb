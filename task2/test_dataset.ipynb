{
 "cells": [
  {
   "cell_type": "code",
   "execution_count": 2,
   "metadata": {},
   "outputs": [],
   "source": [
    "import pandas as pd\n",
    "from dont_patronize_me import DontPatronizeMe\n",
    "from ast import literal_eval\n",
    "from torch.utils.data import DataLoader, Dataset\n",
    "import os\n",
    "os.environ[\"TOKENIZERS_PARALLELISM\"] = \"false\"\n",
    "device = 'cuda'"
   ]
  },
  {
   "cell_type": "code",
   "execution_count": 3,
   "metadata": {},
   "outputs": [],
   "source": [
    "dpm = DontPatronizeMe('../dataset', test_path=None)"
   ]
  },
  {
   "cell_type": "code",
   "execution_count": 4,
   "metadata": {},
   "outputs": [
    {
     "name": "stdout",
     "output_type": "stream",
     "text": [
      "Map of label to numerical label:\n",
      "{'Unbalanced_power_relations': 0, 'Shallow_solution': 1, 'Presupposition': 2, 'Authority_voice': 3, 'Metaphors': 4, 'Compassion': 5, 'The_poorer_the_merrier': 6}\n"
     ]
    }
   ],
   "source": [
    "dpm.load_task2(return_one_hot=True)"
   ]
  },
  {
   "cell_type": "code",
   "execution_count": 6,
   "metadata": {},
   "outputs": [],
   "source": [
    "data = dpm.train_task2_df"
   ]
  },
  {
   "cell_type": "code",
   "execution_count": 7,
   "metadata": {},
   "outputs": [
    {
     "data": {
      "text/plain": [
       "0      [1, 0, 0, 1, 0, 0, 0]\n",
       "1      [0, 1, 0, 0, 0, 0, 0]\n",
       "2      [0, 0, 1, 0, 0, 0, 0]\n",
       "3      [1, 0, 0, 1, 1, 1, 0]\n",
       "4      [1, 0, 0, 0, 0, 0, 0]\n",
       "               ...          \n",
       "988    [1, 0, 0, 0, 1, 0, 0]\n",
       "989    [1, 0, 0, 0, 0, 0, 0]\n",
       "990    [1, 0, 0, 0, 0, 1, 0]\n",
       "991    [1, 0, 0, 0, 0, 0, 0]\n",
       "992    [0, 0, 0, 1, 0, 0, 0]\n",
       "Name: label, Length: 993, dtype: object"
      ]
     },
     "execution_count": 7,
     "metadata": {},
     "output_type": "execute_result"
    }
   ],
   "source": [
    "data['label']"
   ]
  },
  {
   "cell_type": "code",
   "execution_count": 9,
   "metadata": {},
   "outputs": [],
   "source": [
    "data = data.astype({\"par_id\": int})"
   ]
  },
  {
   "cell_type": "code",
   "execution_count": 10,
   "metadata": {},
   "outputs": [],
   "source": [
    "parid_dev = pd.read_csv(\"../dataset/dev_semeval_parids-labels.csv\")\n",
    "parid_train = pd.read_csv(\"../dataset/train_semeval_parids-labels.csv\")"
   ]
  },
  {
   "cell_type": "code",
   "execution_count": 11,
   "metadata": {},
   "outputs": [],
   "source": [
    "train = pd.merge(data, parid_train, on='par_id')\n",
    "val = pd.merge(data, parid_dev, on='par_id')"
   ]
  },
  {
   "cell_type": "code",
   "execution_count": 12,
   "metadata": {},
   "outputs": [
    {
     "data": {
      "text/html": [
       "<div>\n",
       "<style scoped>\n",
       "    .dataframe tbody tr th:only-of-type {\n",
       "        vertical-align: middle;\n",
       "    }\n",
       "\n",
       "    .dataframe tbody tr th {\n",
       "        vertical-align: top;\n",
       "    }\n",
       "\n",
       "    .dataframe thead th {\n",
       "        text-align: right;\n",
       "    }\n",
       "</style>\n",
       "<table border=\"1\" class=\"dataframe\">\n",
       "  <thead>\n",
       "    <tr style=\"text-align: right;\">\n",
       "      <th></th>\n",
       "      <th>par_id</th>\n",
       "      <th>art_id</th>\n",
       "      <th>text</th>\n",
       "      <th>keyword</th>\n",
       "      <th>country</th>\n",
       "      <th>label_x</th>\n",
       "      <th>label_y</th>\n",
       "    </tr>\n",
       "  </thead>\n",
       "  <tbody>\n",
       "    <tr>\n",
       "      <th>0</th>\n",
       "      <td>4341</td>\n",
       "      <td>@@17139403</td>\n",
       "      <td>the scheme saw an estimated 150,000 children f...</td>\n",
       "      <td>poor-families</td>\n",
       "      <td>gb</td>\n",
       "      <td>[1, 0, 0, 1, 0, 0, 0]</td>\n",
       "      <td>[1, 0, 0, 1, 0, 0, 0]</td>\n",
       "    </tr>\n",
       "    <tr>\n",
       "      <th>1</th>\n",
       "      <td>4136</td>\n",
       "      <td>@@22273328</td>\n",
       "      <td>durban 's homeless communities reconciliation ...</td>\n",
       "      <td>homeless</td>\n",
       "      <td>za</td>\n",
       "      <td>[0, 1, 0, 0, 0, 0, 0]</td>\n",
       "      <td>[0, 1, 0, 0, 0, 0, 0]</td>\n",
       "    </tr>\n",
       "    <tr>\n",
       "      <th>2</th>\n",
       "      <td>10352</td>\n",
       "      <td>@@21102155</td>\n",
       "      <td>the next immediate problem that cropped up was...</td>\n",
       "      <td>poor-families</td>\n",
       "      <td>lk</td>\n",
       "      <td>[1, 0, 0, 0, 0, 1, 0]</td>\n",
       "      <td>[1, 0, 0, 0, 0, 1, 0]</td>\n",
       "    </tr>\n",
       "    <tr>\n",
       "      <th>3</th>\n",
       "      <td>8279</td>\n",
       "      <td>@@21220476</td>\n",
       "      <td>far more important than the implications for t...</td>\n",
       "      <td>vulnerable</td>\n",
       "      <td>nz</td>\n",
       "      <td>[0, 0, 0, 1, 0, 0, 0]</td>\n",
       "      <td>[0, 0, 0, 1, 0, 0, 0]</td>\n",
       "    </tr>\n",
       "    <tr>\n",
       "      <th>4</th>\n",
       "      <td>1164</td>\n",
       "      <td>@@14727121</td>\n",
       "      <td>to strengthen child-sensitive social protectio...</td>\n",
       "      <td>poor-families</td>\n",
       "      <td>gh</td>\n",
       "      <td>[1, 0, 0, 1, 1, 1, 0]</td>\n",
       "      <td>[1, 0, 0, 1, 1, 1, 0]</td>\n",
       "    </tr>\n",
       "  </tbody>\n",
       "</table>\n",
       "</div>"
      ],
      "text/plain": [
       "   par_id      art_id                                               text  \\\n",
       "0    4341  @@17139403  the scheme saw an estimated 150,000 children f...   \n",
       "1    4136  @@22273328  durban 's homeless communities reconciliation ...   \n",
       "2   10352  @@21102155  the next immediate problem that cropped up was...   \n",
       "3    8279  @@21220476  far more important than the implications for t...   \n",
       "4    1164  @@14727121  to strengthen child-sensitive social protectio...   \n",
       "\n",
       "         keyword country                label_x                label_y  \n",
       "0  poor-families      gb  [1, 0, 0, 1, 0, 0, 0]  [1, 0, 0, 1, 0, 0, 0]  \n",
       "1       homeless      za  [0, 1, 0, 0, 0, 0, 0]  [0, 1, 0, 0, 0, 0, 0]  \n",
       "2  poor-families      lk  [1, 0, 0, 0, 0, 1, 0]  [1, 0, 0, 0, 0, 1, 0]  \n",
       "3     vulnerable      nz  [0, 0, 0, 1, 0, 0, 0]  [0, 0, 0, 1, 0, 0, 0]  \n",
       "4  poor-families      gh  [1, 0, 0, 1, 1, 1, 0]  [1, 0, 0, 1, 1, 1, 0]  "
      ]
     },
     "execution_count": 12,
     "metadata": {},
     "output_type": "execute_result"
    }
   ],
   "source": [
    "train.head()"
   ]
  },
  {
   "cell_type": "code",
   "execution_count": 13,
   "metadata": {},
   "outputs": [
    {
     "name": "stdout",
     "output_type": "stream",
     "text": [
      "<class 'pandas.core.frame.DataFrame'>\n",
      "Int64Index: 794 entries, 0 to 793\n",
      "Data columns (total 3 columns):\n",
      " #   Column   Non-Null Count  Dtype \n",
      "---  ------   --------------  ----- \n",
      " 0   par_id   794 non-null    int64 \n",
      " 1   text     794 non-null    object\n",
      " 2   label_x  794 non-null    object\n",
      "dtypes: int64(1), object(2)\n",
      "memory usage: 24.8+ KB\n"
     ]
    }
   ],
   "source": [
    "train.drop(['art_id', 'keyword', 'country', 'label_y'], axis=1, inplace=True)\n",
    "train.info()"
   ]
  },
  {
   "cell_type": "code",
   "execution_count": 14,
   "metadata": {},
   "outputs": [
    {
     "name": "stdout",
     "output_type": "stream",
     "text": [
      "<class 'pandas.core.frame.DataFrame'>\n",
      "Int64Index: 199 entries, 0 to 198\n",
      "Data columns (total 3 columns):\n",
      " #   Column   Non-Null Count  Dtype \n",
      "---  ------   --------------  ----- \n",
      " 0   par_id   199 non-null    int64 \n",
      " 1   text     199 non-null    object\n",
      " 2   label_x  199 non-null    object\n",
      "dtypes: int64(1), object(2)\n",
      "memory usage: 6.2+ KB\n"
     ]
    }
   ],
   "source": [
    "val.drop(['art_id', 'keyword', 'country', 'label_y'], axis=1, inplace=True)\n",
    "val.info()"
   ]
  },
  {
   "cell_type": "code",
   "execution_count": 15,
   "metadata": {},
   "outputs": [],
   "source": [
    "val.to_csv(\"./val_task2.csv\", index=False)"
   ]
  },
  {
   "cell_type": "code",
   "execution_count": 16,
   "metadata": {},
   "outputs": [],
   "source": [
    "train.to_csv(\"./train_task2.csv\", index=False)"
   ]
  },
  {
   "cell_type": "code",
   "execution_count": null,
   "metadata": {},
   "outputs": [],
   "source": [
    "for label in data['label']:\n",
    "    print(label)\n",
    "    print(len(label))\n",
    "    break\n"
   ]
  },
  {
   "cell_type": "code",
   "execution_count": null,
   "metadata": {},
   "outputs": [],
   "source": [
    "from transformers import AutoTokenizer, AutoModelForSequenceClassification\n",
    "\n",
    "tokenizer = AutoTokenizer.from_pretrained(\"Hate-speech-CNERG/bert-base-uncased-hatexplain\")"
   ]
  },
  {
   "cell_type": "code",
   "execution_count": null,
   "metadata": {},
   "outputs": [],
   "source": [
    "tokenizer.encode_plus(data[data['par_id'] == str(index)]['text'].to_string())"
   ]
  },
  {
   "cell_type": "code",
   "execution_count": null,
   "metadata": {},
   "outputs": [],
   "source": [
    "model = AutoModelForSequenceClassification.from_pretrained(\"Hate-speech-CNERG/bert-base-uncased-hatexplain\")\n"
   ]
  },
  {
   "cell_type": "code",
   "execution_count": null,
   "metadata": {},
   "outputs": [],
   "source": [
    "model2"
   ]
  }
 ],
 "metadata": {
  "interpreter": {
   "hash": "7359f9c874db4364c728011c1f4a97cf55832ccdeb70372c117f6582850e5526"
  },
  "kernelspec": {
   "display_name": "Python 3 (ipykernel)",
   "language": "python",
   "name": "python3"
  },
  "language_info": {
   "codemirror_mode": {
    "name": "ipython",
    "version": 3
   },
   "file_extension": ".py",
   "mimetype": "text/x-python",
   "name": "python",
   "nbconvert_exporter": "python",
   "pygments_lexer": "ipython3",
   "version": "3.9.7"
  }
 },
 "nbformat": 4,
 "nbformat_minor": 2
}
