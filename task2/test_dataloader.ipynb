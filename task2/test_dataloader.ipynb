{
 "cells": [
  {
   "cell_type": "code",
   "execution_count": 2,
   "metadata": {},
   "outputs": [],
   "source": [
    "import pandas as pd\n",
    "from ast import literal_eval\n",
    "from torch.utils.data import DataLoader, Dataset\n",
    "from data_utils import DPMDataset\n",
    "import os\n",
    "os.environ[\"TOKENIZERS_PARALLELISM\"] = \"false\"\n",
    "device = 'cuda'"
   ]
  },
  {
   "cell_type": "code",
   "execution_count": 3,
   "metadata": {},
   "outputs": [],
   "source": [
    "data = pd.read_csv(\"../dataset/task2_merged_datsets/train_task2.csv\")"
   ]
  },
  {
   "cell_type": "code",
   "execution_count": 4,
   "metadata": {},
   "outputs": [],
   "source": [
    "dpm_train = DPMDataset(\n",
    "            path=\"../dataset/task2_merged_datsets/train_task2.csv\"\n",
    "        )"
   ]
  },
  {
   "cell_type": "code",
   "execution_count": 6,
   "metadata": {},
   "outputs": [],
   "source": [
    "dpm_loader =  DataLoader(\n",
    "            dpm_train,\n",
    "            batch_size=2,\n",
    "            num_workers=8,\n",
    "            shuffle=True,\n",
    "        )"
   ]
  },
  {
   "cell_type": "code",
   "execution_count": 7,
   "metadata": {},
   "outputs": [
    {
     "name": "stdout",
     "output_type": "stream",
     "text": [
      "tensor([[ 101, 1000, 1000,  ...,    0,    0,    0],\n",
      "        [ 101, 2096, 3287,  ...,    0,    0,    0]])\n"
     ]
    }
   ],
   "source": [
    "dataiter = iter(dpm_loader)\n",
    "data = dataiter.next()\n",
    "print(data['ids'])"
   ]
  }
 ],
 "metadata": {
  "interpreter": {
   "hash": "7359f9c874db4364c728011c1f4a97cf55832ccdeb70372c117f6582850e5526"
  },
  "kernelspec": {
   "display_name": "Python 3 (ipykernel)",
   "language": "python",
   "name": "python3"
  },
  "language_info": {
   "codemirror_mode": {
    "name": "ipython",
    "version": 3
   },
   "file_extension": ".py",
   "mimetype": "text/x-python",
   "name": "python",
   "nbconvert_exporter": "python",
   "pygments_lexer": "ipython3",
   "version": "3.9.7"
  }
 },
 "nbformat": 4,
 "nbformat_minor": 2
}
