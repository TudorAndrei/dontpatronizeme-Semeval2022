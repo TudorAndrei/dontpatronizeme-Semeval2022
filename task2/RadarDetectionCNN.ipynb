{
 "cells": [
  {
   "cell_type": "code",
   "execution_count": 1,
   "metadata": {},
   "outputs": [
    {
     "name": "stdout",
     "output_type": "stream",
     "text": [
      "CUDA is available. Training on GPU ...\n"
     ]
    }
   ],
   "source": [
    "from data_utils import DPMDataModule\n",
    "\n",
    "from ast import literal_eval\n",
    "\n",
    "import torch\n",
    "import torch.nn as nn\n",
    "import torch.optim as optim\n",
    "\n",
    "from pytorch_lightning import LightningModule\n",
    "from pytorch_lightning import Trainer\n",
    "from pytorch_lightning.callbacks.early_stopping import EarlyStopping\n",
    "from pytorch_lightning.callbacks.model_checkpoint import ModelCheckpoint\n",
    "from pytorch_lightning.loggers import TensorBoardLogger\n",
    "from torchmetrics.functional import accuracy\n",
    "\n",
    "from transformers import  AutoModelForSequenceClassification\n",
    "\n",
    "train_on_gpu = torch.cuda.is_available()\n",
    "if not train_on_gpu:\n",
    "  print('CUDA is not available. Training on CPU ...')\n",
    "else:\n",
    "  print('CUDA is available. Training on GPU ...')\n",
    "\n",
    "device = torch.device(\"cuda\" if torch.cuda.is_available() else \"cpu\")"
   ]
  },
  {
   "cell_type": "code",
   "execution_count": 2,
   "metadata": {},
   "outputs": [],
   "source": [
    "class DontPatronizeMe(LightningModule):\n",
    "    def __init__(self):\n",
    "        super(DontPatronizeMe,self).__init__()\n",
    "\n",
    "        self.n_classes = 7\n",
    "        self.lr = 0.001\n",
    "\n",
    "        self.bert = AutoModelForSequenceClassification.from_pretrained(\"Hate-speech-CNERG/bert-base-uncased-hatexplain\").bert\n",
    "        self.dropout = nn.Dropout(0.5)\n",
    "        self.linear1 = nn.Linear(768, 768)\n",
    "        self.linear2 = nn.Linear(768, self.n_classes)\n",
    "        self.relu = nn.ReLU()\n",
    "\n",
    "        for param in self.bert.parameters():\n",
    "            param.require_grad = False\n",
    "\n",
    "        self.criterion = nn.BCEWithLogitsLoss()\n",
    "\n",
    "\n",
    "    def forward(self, input_id, mask):\n",
    "        x = self.bert(input_ids=input_id, attention_mask=mask, return_dict=False)\n",
    "        x = x[0]\n",
    "        x = x[:,0]\n",
    "        x = self.dropout(x)\n",
    "        x = self.relu(self.linear1(x))\n",
    "        x = self.relu(self.linear2(x))\n",
    "        return x\n",
    "\n",
    "    def configure_optimizers(self):\n",
    "        optimizer = optim.Adam(self.parameters(), lr=self.lr)\n",
    "        return {\n",
    "            \"optimizer\": optimizer,\n",
    "        }\n",
    "\n",
    "    def training_step(self, batch, _):\n",
    "        ids, mask, labels = batch[\"ids\"], batch[\"mask\"], batch[\"labels\"]\n",
    "        output = self(ids, mask)\n",
    "        loss = self.criterion(output, labels)\n",
    "        self.log(\"train/loss\", loss, prog_bar=True, on_epoch=True, on_step=False)\n",
    "        return loss\n",
    "\n",
    "    def validation_step(self, batch, _):\n",
    "        ids, mask, labels = batch[\"ids\"], batch[\"mask\"], batch[\"labels\"]\n",
    "        output = self(ids, mask)\n",
    "        loss   = self.criterion(output, labels)\n",
    "        acc    = accuracy(output, labels.int(), multiclass=True)\n",
    "        return {\"loss\": loss, \"acc\": acc}\n",
    "\n",
    "    def validation_epoch_end(self, out):\n",
    "        loss = torch.stack([x[\"loss\"] for x in out]).mean()\n",
    "        self.log(\"val/val_loss\", loss, on_epoch=True, on_step=False)\n",
    "        acc = torch.stack([x[\"acc\"] for x in out]).mean()\n",
    "        self.log(\"val/val_acc\", acc, on_epoch=True, on_step=False)"
   ]
  },
  {
   "cell_type": "code",
   "execution_count": 3,
   "metadata": {},
   "outputs": [
    {
     "name": "stderr",
     "output_type": "stream",
     "text": [
      "GPU available: True, used: True\n",
      "TPU available: False, using: 0 TPU cores\n",
      "IPU available: False, using: 0 IPUs\n",
      "LOCAL_RANK: 0 - CUDA_VISIBLE_DEVICES: [0]\n",
      "\n",
      "  | Name      | Type              | Params\n",
      "------------------------------------------------\n",
      "0 | bert      | BertModel         | 109 M \n",
      "1 | dropout   | Dropout           | 0     \n",
      "2 | linear1   | Linear            | 590 K \n",
      "3 | linear2   | Linear            | 5.4 K \n",
      "4 | relu      | ReLU              | 0     \n",
      "5 | criterion | BCEWithLogitsLoss | 0     \n",
      "------------------------------------------------\n",
      "110 M     Trainable params\n",
      "0         Non-trainable params\n",
      "110 M     Total params\n",
      "440.313   Total estimated model params size (MB)\n",
      "C:\\Programs\\Anaconda\\envs\\pytorch\\lib\\site-packages\\pytorch_lightning\\callbacks\\model_checkpoint.py:631: UserWarning: Checkpoint directory C:\\Users\\radus\\OneDrive - unibuc.ro\\Master\\An 2\\Semestrul 1\\NLP2\\Project\\dontpatronizeme-Semeval2022\\task2\\models\\bert exists and is not empty.\n",
      "  rank_zero_warn(f\"Checkpoint directory {dirpath} exists and is not empty.\")\n"
     ]
    },
    {
     "name": "stdout",
     "output_type": "stream",
     "text": [
      "Validation sanity check:   0%|          | 0/2 [00:00<?, ?it/s]"
     ]
    },
    {
     "name": "stderr",
     "output_type": "stream",
     "text": [
      "C:\\Programs\\Anaconda\\envs\\pytorch\\lib\\site-packages\\pytorch_lightning\\trainer\\data_loading.py:132: UserWarning: The dataloader, val_dataloader 0, does not have many workers which may be a bottleneck. Consider increasing the value of the `num_workers` argument` (try 16 which is the number of cpus on this machine) in the `DataLoader` init to improve performance.\n",
      "  rank_zero_warn(\n"
     ]
    },
    {
     "name": "stdout",
     "output_type": "stream",
     "text": [
      "                                                                      "
     ]
    },
    {
     "name": "stderr",
     "output_type": "stream",
     "text": [
      "C:\\Programs\\Anaconda\\envs\\pytorch\\lib\\site-packages\\pytorch_lightning\\trainer\\data_loading.py:132: UserWarning: The dataloader, train_dataloader, does not have many workers which may be a bottleneck. Consider increasing the value of the `num_workers` argument` (try 16 which is the number of cpus on this machine) in the `DataLoader` init to improve performance.\n",
      "  rank_zero_warn(\n"
     ]
    },
    {
     "name": "stdout",
     "output_type": "stream",
     "text": [
      "Epoch 2:  20%|█▉        | 49/249 [01:04<04:22,  1.31s/it, loss=0.693, v_num=1, train/loss=0.693] "
     ]
    }
   ],
   "source": [
    "import os\n",
    "os.environ[\"TOKENIZERS_PARALLELISM\"] = \"false\"\n",
    "\n",
    "BATCH_SIZE = 2\n",
    "EPOCHS = 10000\n",
    "\n",
    "data = DPMDataModule(num_workers=0, batch_size=4, shuffle=False)\n",
    "model_name = \"bert\"\n",
    "model = DontPatronizeMe()\n",
    "logger = TensorBoardLogger(\"tb_logs\", name=f\"{model_name}\")\n",
    "\n",
    "trainer = Trainer(\n",
    "    detect_anomaly=True,\n",
    "    gpus=1,\n",
    "    enable_model_summary=True,\n",
    "    logger=logger,\n",
    "    log_every_n_steps=BATCH_SIZE,\n",
    "    max_epochs=EPOCHS,\n",
    "\n",
    "    callbacks=[\n",
    "        ModelCheckpoint(\n",
    "            monitor=\"val/val_loss\",\n",
    "            mode=\"min\",\n",
    "            dirpath=f\"models/{model_name}\",\n",
    "            filename=\"radar-epoch{epoch:02d}-val_loss{val/val_loss:.2f}\",\n",
    "            auto_insert_metric_name=False,\n",
    "        ),\n",
    "        EarlyStopping(monitor=\"val/val_loss\", patience=6),\n",
    "    ],\n",
    ")\n",
    "trainer.fit(model, data)\n"
   ]
  }
 ],
 "metadata": {
  "interpreter": {
   "hash": "f4d8323a1f8672302ae34e66fa45b13630f024d749c90b12fa4a41717fc15003"
  },
  "kernelspec": {
   "display_name": "Python 3.8.11 64-bit ('pytorch': conda)",
   "language": "python",
   "name": "python3"
  },
  "language_info": {
   "codemirror_mode": {
    "name": "ipython",
    "version": 3
   },
   "file_extension": ".py",
   "mimetype": "text/x-python",
   "name": "python",
   "nbconvert_exporter": "python",
   "pygments_lexer": "ipython3",
   "version": "3.8.11"
  },
  "orig_nbformat": 4
 },
 "nbformat": 4,
 "nbformat_minor": 2
}
