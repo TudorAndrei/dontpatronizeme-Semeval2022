{
 "cells": [
  {
   "cell_type": "code",
   "execution_count": 1,
   "metadata": {},
   "outputs": [],
   "source": [
    "import pandas as pd\n",
    "from dont_patronize_me import DontPatronizeMe\n",
    "device = 'cuda'"
   ]
  },
  {
   "cell_type": "code",
   "execution_count": 2,
   "metadata": {},
   "outputs": [],
   "source": [
    "dpm = DontPatronizeMe('.')"
   ]
  },
  {
   "cell_type": "code",
   "execution_count": 3,
   "metadata": {},
   "outputs": [],
   "source": [
    "\n",
    "data = dpm.load_task2()"
   ]
  },
  {
   "cell_type": "code",
   "execution_count": 4,
   "metadata": {},
   "outputs": [
    {
     "data": {
      "text/html": [
       "<div>\n",
       "<style scoped>\n",
       "    .dataframe tbody tr th:only-of-type {\n",
       "        vertical-align: middle;\n",
       "    }\n",
       "\n",
       "    .dataframe tbody tr th {\n",
       "        vertical-align: top;\n",
       "    }\n",
       "\n",
       "    .dataframe thead th {\n",
       "        text-align: right;\n",
       "    }\n",
       "</style>\n",
       "<table border=\"1\" class=\"dataframe\">\n",
       "  <thead>\n",
       "    <tr style=\"text-align: right;\">\n",
       "      <th></th>\n",
       "      <th>par_id</th>\n",
       "      <th>art_id</th>\n",
       "      <th>text</th>\n",
       "      <th>keyword</th>\n",
       "      <th>country</th>\n",
       "      <th>label</th>\n",
       "    </tr>\n",
       "  </thead>\n",
       "  <tbody>\n",
       "    <tr>\n",
       "      <th>0</th>\n",
       "      <td>4046</td>\n",
       "      <td>@@14767805</td>\n",
       "      <td>we also know that they can benefit by receivin...</td>\n",
       "      <td>hopeless</td>\n",
       "      <td>us</td>\n",
       "      <td>[1, 1, 0, 0, 0, 0, 0]</td>\n",
       "    </tr>\n",
       "    <tr>\n",
       "      <th>1</th>\n",
       "      <td>1279</td>\n",
       "      <td>@@7896098</td>\n",
       "      <td>pope francis washed and kissed the feet of mus...</td>\n",
       "      <td>refugee</td>\n",
       "      <td>ng</td>\n",
       "      <td>[0, 0, 1, 0, 0, 0, 0]</td>\n",
       "    </tr>\n",
       "    <tr>\n",
       "      <th>2</th>\n",
       "      <td>8330</td>\n",
       "      <td>@@17252299</td>\n",
       "      <td>many refugees do n't want to be resettled anyw...</td>\n",
       "      <td>refugee</td>\n",
       "      <td>ng</td>\n",
       "      <td>[0, 0, 0, 1, 0, 0, 0]</td>\n",
       "    </tr>\n",
       "    <tr>\n",
       "      <th>3</th>\n",
       "      <td>4063</td>\n",
       "      <td>@@3002894</td>\n",
       "      <td>\"budding chefs , like \"\" fred \"\" , \"\" winston ...</td>\n",
       "      <td>in-need</td>\n",
       "      <td>ie</td>\n",
       "      <td>[1, 1, 0, 0, 1, 1, 0]</td>\n",
       "    </tr>\n",
       "    <tr>\n",
       "      <th>4</th>\n",
       "      <td>4089</td>\n",
       "      <td>@@25597822</td>\n",
       "      <td>\"in a 90-degree view of his constituency , one...</td>\n",
       "      <td>homeless</td>\n",
       "      <td>pk</td>\n",
       "      <td>[0, 1, 0, 0, 0, 0, 0]</td>\n",
       "    </tr>\n",
       "  </tbody>\n",
       "</table>\n",
       "</div>"
      ],
      "text/plain": [
       "  par_id      art_id                                               text  \\\n",
       "0   4046  @@14767805  we also know that they can benefit by receivin...   \n",
       "1   1279   @@7896098  pope francis washed and kissed the feet of mus...   \n",
       "2   8330  @@17252299  many refugees do n't want to be resettled anyw...   \n",
       "3   4063   @@3002894  \"budding chefs , like \"\" fred \"\" , \"\" winston ...   \n",
       "4   4089  @@25597822  \"in a 90-degree view of his constituency , one...   \n",
       "\n",
       "    keyword country                  label  \n",
       "0  hopeless      us  [1, 1, 0, 0, 0, 0, 0]  \n",
       "1   refugee      ng  [0, 0, 1, 0, 0, 0, 0]  \n",
       "2   refugee      ng  [0, 0, 0, 1, 0, 0, 0]  \n",
       "3   in-need      ie  [1, 1, 0, 0, 1, 1, 0]  \n",
       "4  homeless      pk  [0, 1, 0, 0, 0, 0, 0]  "
      ]
     },
     "execution_count": 4,
     "metadata": {},
     "output_type": "execute_result"
    }
   ],
   "source": [
    "data.head()"
   ]
  },
  {
   "cell_type": "code",
   "execution_count": 9,
   "metadata": {},
   "outputs": [
    {
     "data": {
      "text/plain": [
       "homeless         178\n",
       "in-need          176\n",
       "poor-families    150\n",
       "hopeless         124\n",
       "refugee           86\n",
       "disabled          81\n",
       "vulnerable        80\n",
       "women             52\n",
       "migrant           36\n",
       "immigrant         30\n",
       "Name: keyword, dtype: int64"
      ]
     },
     "execution_count": 9,
     "metadata": {},
     "output_type": "execute_result"
    }
   ],
   "source": [
    "data['keyword'].value_counts()"
   ]
  },
  {
   "cell_type": "code",
   "execution_count": 6,
   "metadata": {},
   "outputs": [],
   "source": [
    "from transformers import AutoTokenizer, AutoModelForSequenceClassification\n",
    "\n",
    "tokenizer = AutoTokenizer.from_pretrained(\"Hate-speech-CNERG/bert-base-uncased-hatexplain\")\n",
    "\n",
    "model = AutoModelForSequenceClassification.from_pretrained(\"Hate-speech-CNERG/bert-base-uncased-hatexplain\").to(device)"
   ]
  },
  {
   "cell_type": "code",
   "execution_count": 7,
   "metadata": {},
   "outputs": [
    {
     "data": {
      "text/plain": [
       "{'input_ids': [101, 2057, 2036, 2113, 2008, 2027, 2064, 5770, 2011, 4909, 17041, 2013, 2619, 2040, 2064, 2393, 2068, 3305, 2008, 2037, 5346, 2024, 3671, 1998, 2008, 2037, 3663, 2003, 2025, 20625, 1025, 2619, 2040, 2064, 2393, 2068, 2404, 2037, 3663, 1999, 7339, 1998, 2393, 2068, 10639, 2007, 2500, 2040, 2071, 3073, 2490, 1025, 2619, 3716, 3085, 2055, 4219, 2027, 2064, 3229, 1025, 2619, 2040, 2064, 2393, 2068, 2933, 2005, 2037, 3791, 1998, 1996, 3791, 1997, 2037, 2775, 2011, 4975, 2593, 1037, 28586, 2933, 2030, 2019, 9886, 2933, 1012, 102], 'token_type_ids': [0, 0, 0, 0, 0, 0, 0, 0, 0, 0, 0, 0, 0, 0, 0, 0, 0, 0, 0, 0, 0, 0, 0, 0, 0, 0, 0, 0, 0, 0, 0, 0, 0, 0, 0, 0, 0, 0, 0, 0, 0, 0, 0, 0, 0, 0, 0, 0, 0, 0, 0, 0, 0, 0, 0, 0, 0, 0, 0, 0, 0, 0, 0, 0, 0, 0, 0, 0, 0, 0, 0, 0, 0, 0, 0, 0, 0, 0, 0, 0, 0, 0, 0, 0, 0, 0, 0, 0], 'attention_mask': [1, 1, 1, 1, 1, 1, 1, 1, 1, 1, 1, 1, 1, 1, 1, 1, 1, 1, 1, 1, 1, 1, 1, 1, 1, 1, 1, 1, 1, 1, 1, 1, 1, 1, 1, 1, 1, 1, 1, 1, 1, 1, 1, 1, 1, 1, 1, 1, 1, 1, 1, 1, 1, 1, 1, 1, 1, 1, 1, 1, 1, 1, 1, 1, 1, 1, 1, 1, 1, 1, 1, 1, 1, 1, 1, 1, 1, 1, 1, 1, 1, 1, 1, 1, 1, 1, 1, 1]}"
      ]
     },
     "execution_count": 7,
     "metadata": {},
     "output_type": "execute_result"
    }
   ],
   "source": [
    "tokenizer(data.iloc[0, 2])"
   ]
  },
  {
   "cell_type": "code",
   "execution_count": 8,
   "metadata": {},
   "outputs": [
    {
     "data": {
      "text/plain": [
       "[101,\n",
       " 2613,\n",
       " 5635,\n",
       " 1997,\n",
       " 3725,\n",
       " 1024,\n",
       " 16880,\n",
       " 4871,\n",
       " 1997,\n",
       " 2866,\n",
       " 1999,\n",
       " 1996,\n",
       " 22651,\n",
       " 2073,\n",
       " 3532,\n",
       " 2428,\n",
       " 3214,\n",
       " 3532,\n",
       " 1026,\n",
       " 1044,\n",
       " 1028,\n",
       " 2122,\n",
       " 2524,\n",
       " 1011,\n",
       " 7294,\n",
       " 7008,\n",
       " 3749,\n",
       " 1037,\n",
       " 12185,\n",
       " 2046,\n",
       " 1996,\n",
       " 24560,\n",
       " 2075,\n",
       " 2154,\n",
       " 1011,\n",
       " 2000,\n",
       " 1011,\n",
       " 2154,\n",
       " 2005,\n",
       " 3532,\n",
       " 2945,\n",
       " 2542,\n",
       " 1999,\n",
       " 3725,\n",
       " 2076,\n",
       " 1996,\n",
       " 22651,\n",
       " 1012,\n",
       " 102]"
      ]
     },
     "execution_count": 8,
     "metadata": {},
     "output_type": "execute_result"
    }
   ],
   "source": [
    "tokenizer.encode_plus(data.loc[15, 'text'])"
   ]
  },
  {
   "cell_type": "code",
   "execution_count": null,
   "metadata": {},
   "outputs": [],
   "source": [
    "# from torch import nn\n",
    "# pt_predictions = nn.functional.softmax(pt_outputs.logits, dim=-1)"
   ]
  },
  {
   "cell_type": "code",
   "execution_count": null,
   "metadata": {},
   "outputs": [],
   "source": [
    "print(pt_predictions)"
   ]
  },
  {
   "cell_type": "code",
   "execution_count": null,
   "metadata": {},
   "outputs": [],
   "source": []
  }
 ],
 "metadata": {
  "interpreter": {
   "hash": "7359f9c874db4364c728011c1f4a97cf55832ccdeb70372c117f6582850e5526"
  },
  "kernelspec": {
   "display_name": "Python 3 (ipykernel)",
   "language": "python",
   "name": "python3"
  },
  "language_info": {
   "codemirror_mode": {
    "name": "ipython",
    "version": 3
   },
   "file_extension": ".py",
   "mimetype": "text/x-python",
   "name": "python",
   "nbconvert_exporter": "python",
   "pygments_lexer": "ipython3",
   "version": "3.9.7"
  }
 },
 "nbformat": 4,
 "nbformat_minor": 2
}
